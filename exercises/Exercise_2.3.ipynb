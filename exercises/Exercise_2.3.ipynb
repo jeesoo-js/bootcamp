{
 "cells": [
  {
   "cell_type": "markdown",
   "metadata": {},
   "source": [
    "# Exercise 2.3: Longest common substring"
   ]
  },
  {
   "cell_type": "code",
   "execution_count": 1,
   "metadata": {},
   "outputs": [],
   "source": [
    "seq_1 = 'AGTCATGCATGCACTGTGACCAGTTA'\n",
    "seq_2 = 'AGTCATGCAGAGATCAGTACTATGCATAGCATGA'"
   ]
  },
  {
   "cell_type": "code",
   "execution_count": 15,
   "metadata": {},
   "outputs": [],
   "source": [
    "def longest_common_substring (s1, s2):\n",
    "    \"\"\"return the longest common substring between two sequences\"\"\"\n",
    "    \n",
    "    #Start with the longest substring of s1 and loop through s2, shortening the substring and testing each variation each loop\n",
    "    substr_len = len(s1)\n",
    "    for i in range(len(s1)):\n",
    "        # Try all substrings\n",
    "        for j in range(len(s1) - substr_len + 1):\n",
    "            if s1[j:j+substr_len] in s2:\n",
    "                return s1[j:j+substr_len]\n",
    "\n",
    "        substr_len -= 1\n",
    "\n",
    "    # If we haven't returned, there is no common substring\n",
    "    return ''\n"
   ]
  },
  {
   "cell_type": "code",
   "execution_count": 16,
   "metadata": {},
   "outputs": [
    {
     "data": {
      "text/plain": [
       "'AGTCATGCA'"
      ]
     },
     "execution_count": 16,
     "metadata": {},
     "output_type": "execute_result"
    }
   ],
   "source": [
    "longest_common_substring (seq_1, seq_2)"
   ]
  },
  {
   "cell_type": "code",
   "execution_count": 22,
   "metadata": {
    "scrolled": true,
    "tags": []
   },
   "outputs": [],
   "source": [
    "def longest_common_substring (s1, s2):\n",
    "    \"\"\"return the longest common continuous portion of a string\"\"\"\n",
    "\n",
    "    # Start with the longest substring of s1 and loop through s2, shorten the substring and continue to loop through\n",
    "    for i in range(len(s1)):\n",
    "        for j in range(i+1):\n",
    "            if s1[i:ij] \n",
    "    \n",
    "        "
   ]
  }
 ],
 "metadata": {
  "kernelspec": {
   "display_name": "Python 3",
   "language": "python",
   "name": "python3"
  },
  "language_info": {
   "codemirror_mode": {
    "name": "ipython",
    "version": 3
   },
   "file_extension": ".py",
   "mimetype": "text/x-python",
   "name": "python",
   "nbconvert_exporter": "python",
   "pygments_lexer": "ipython3",
   "version": "3.8.3"
  }
 },
 "nbformat": 4,
 "nbformat_minor": 4
}
