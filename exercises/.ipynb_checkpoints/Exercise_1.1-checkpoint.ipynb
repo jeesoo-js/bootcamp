{
 "cells": [
  {
   "cell_type": "markdown",
   "metadata": {},
   "source": [
    "# Exercise 1.1: Command line exercises"
   ]
  },
  {
   "cell_type": "code",
   "execution_count": 3,
   "metadata": {},
   "outputs": [
    {
     "name": "stdout",
     "output_type": "stream",
     "text": [
      "/Users/jeesoolee/git/bootcamp/command_line_tutorial\n"
     ]
    }
   ],
   "source": [
    "cd ~/git/bootcamp/command_line_tutorial/"
   ]
  },
  {
   "cell_type": "code",
   "execution_count": 4,
   "metadata": {},
   "outputs": [
    {
     "name": "stdout",
     "output_type": "stream",
     "text": [
      "fibonacci.py  \u001b[31mremind_me.sh\u001b[m\u001b[m* \u001b[34msequences\u001b[m\u001b[m/\n"
     ]
    }
   ],
   "source": [
    "ls"
   ]
  },
  {
   "cell_type": "code",
   "execution_count": 5,
   "metadata": {},
   "outputs": [
    {
     "name": "stdout",
     "output_type": "stream",
     "text": [
      "fibonacci.py  \u001b[31mremind_me.sh\u001b[m\u001b[m* \u001b[34msequences\u001b[m\u001b[m/\n"
     ]
    }
   ],
   "source": [
    "ls -F"
   ]
  },
  {
   "cell_type": "code",
   "execution_count": 6,
   "metadata": {},
   "outputs": [
    {
     "name": "stdout",
     "output_type": "stream",
     "text": [
      "fibonacci.py  \u001b[31mremind_me.sh\u001b[m\u001b[m* \u001b[34msequences\u001b[m\u001b[m/\n"
     ]
    }
   ],
   "source": [
    "ls -G"
   ]
  },
  {
   "cell_type": "code",
   "execution_count": 7,
   "metadata": {},
   "outputs": [
    {
     "name": "stdout",
     "output_type": "stream",
     "text": [
      "total 16\n",
      "-rw-r--r--   1 jeesoolee  staff  239 17 Jul 11:33 fibonacci.py\n",
      "-rwxr-xr-x   1 jeesoolee  staff   53 17 Jul 11:33 \u001b[31mremind_me.sh\u001b[m\u001b[m*\n",
      "drwxr-xr-x  11 jeesoolee  staff  352 17 Jul 11:59 \u001b[34msequences\u001b[m\u001b[m/\n"
     ]
    }
   ],
   "source": [
    "ls -l"
   ]
  },
  {
   "cell_type": "code",
   "execution_count": 8,
   "metadata": {},
   "outputs": [
    {
     "name": "stdout",
     "output_type": "stream",
     "text": [
      "total 16\n",
      "-rw-r--r--   1 jeesoolee  staff   239B 17 Jul 11:33 fibonacci.py\n",
      "-rwxr-xr-x   1 jeesoolee  staff    53B 17 Jul 11:33 \u001b[31mremind_me.sh\u001b[m\u001b[m*\n",
      "drwxr-xr-x  11 jeesoolee  staff   352B 17 Jul 11:59 \u001b[34msequences\u001b[m\u001b[m/\n"
     ]
    }
   ],
   "source": [
    "ls -lh"
   ]
  },
  {
   "cell_type": "code",
   "execution_count": 9,
   "metadata": {},
   "outputs": [
    {
     "name": "stdout",
     "output_type": "stream",
     "text": [
      "total 16\n",
      "drwxr-xr-x  11 jeesoolee  staff  352 17 Jul 11:59 \u001b[34msequences\u001b[m\u001b[m/\n",
      "-rw-r--r--   1 jeesoolee  staff  239 17 Jul 11:33 fibonacci.py\n",
      "-rwxr-xr-x   1 jeesoolee  staff   53 17 Jul 11:33 \u001b[31mremind_me.sh\u001b[m\u001b[m*\n"
     ]
    }
   ],
   "source": [
    "ls -lS"
   ]
  },
  {
   "cell_type": "code",
   "execution_count": 10,
   "metadata": {},
   "outputs": [
    {
     "name": "stdout",
     "output_type": "stream",
     "text": [
      "fibonacci.py  \u001b[31mremind_me.sh\u001b[m\u001b[m* \u001b[34msequences\u001b[m\u001b[m/\n"
     ]
    }
   ],
   "source": [
    "ls -FGLh"
   ]
  },
  {
   "cell_type": "code",
   "execution_count": 11,
   "metadata": {},
   "outputs": [
    {
     "name": "stdout",
     "output_type": "stream",
     "text": [
      "/Users/jeesoolee\n"
     ]
    }
   ],
   "source": [
    "cd ~/"
   ]
  },
  {
   "cell_type": "code",
   "execution_count": 12,
   "metadata": {},
   "outputs": [
    {
     "name": "stdout",
     "output_type": "stream",
     "text": [
      "\u001b[34m.\u001b[m\u001b[m/\n",
      "\u001b[34m..\u001b[m\u001b[m/\n",
      ".CFUserTextEncoding\n",
      ".DS_Store\n",
      "\u001b[34m.Trash\u001b[m\u001b[m/\n",
      "\u001b[34m.anaconda\u001b[m\u001b[m/\n",
      ".bash_history\n",
      ".bash_profile\n",
      ".bash_profile.swp\n",
      "\u001b[34m.bash_sessions\u001b[m\u001b[m/\n",
      "\u001b[34m.conda\u001b[m\u001b[m/\n",
      ".condarc\n",
      "\u001b[34m.cups\u001b[m\u001b[m/\n",
      ".gitconfig\n",
      ".gitconfig.swp\n",
      "\u001b[34m.ipynb_checkpoints\u001b[m\u001b[m/\n",
      "\u001b[34m.ipython\u001b[m\u001b[m/\n",
      "\u001b[34m.jupyter\u001b[m\u001b[m/\n",
      "\u001b[34m.matplotlib\u001b[m\u001b[m/\n",
      ".python_history\n",
      "\u001b[34m.spyder-py3\u001b[m\u001b[m/\n",
      ".viminfo\n",
      ".zsh_history\n",
      "\u001b[34mApplications\u001b[m\u001b[m/\n",
      "\u001b[34mCreative Cloud Files\u001b[m\u001b[m/\n",
      "\u001b[34mDesktop\u001b[m\u001b[m/\n",
      "\u001b[34mDocuments\u001b[m\u001b[m/\n",
      "\u001b[34mDownloads\u001b[m\u001b[m/\n",
      "\u001b[34mGeorge Weston Limited-6469347-MTCAD\u001b[m\u001b[m/\n",
      "\u001b[34mLibrary\u001b[m\u001b[m/\n",
      "\u001b[34mMovies\u001b[m\u001b[m/\n",
      "\u001b[34mMusic\u001b[m\u001b[m/\n",
      "\u001b[34mOneDrive - George Weston Limited-6469347-MTCAD\u001b[m\u001b[m/\n",
      "\u001b[34mPictures\u001b[m\u001b[m/\n",
      "\u001b[34mPublic\u001b[m\u001b[m/\n",
      "\u001b[34mgit\u001b[m\u001b[m/\n"
     ]
    }
   ],
   "source": [
    "ls -a"
   ]
  },
  {
   "cell_type": "code",
   "execution_count": 17,
   "metadata": {},
   "outputs": [
    {
     "name": "stdout",
     "output_type": "stream",
     "text": [
      "\u001b[34manaconda3\u001b[m\u001b[m/\n"
     ]
    }
   ],
   "source": [
    "ls"
   ]
  },
  {
   "cell_type": "code",
   "execution_count": 18,
   "metadata": {},
   "outputs": [
    {
     "name": "stdout",
     "output_type": "stream",
     "text": [
      "\u001b[34mApplications\u001b[m\u001b[m/ \u001b[34mVolumes\u001b[m\u001b[m/      \u001b[35metc\u001b[m\u001b[m@          \u001b[34msbin\u001b[m\u001b[m/\n",
      "\u001b[34mLibrary\u001b[m\u001b[m/      \u001b[34mbin\u001b[m\u001b[m/          \u001b[35mhome\u001b[m\u001b[m@         \u001b[35mtmp\u001b[m\u001b[m@\n",
      "\u001b[34mSystem\u001b[m\u001b[m/       \u001b[34mcores\u001b[m\u001b[m/        \u001b[34mopt\u001b[m\u001b[m/          \u001b[34musr\u001b[m\u001b[m/\n",
      "\u001b[34mUsers\u001b[m\u001b[m/        \u001b[34mdev\u001b[m\u001b[m/          \u001b[34mprivate\u001b[m\u001b[m/      \u001b[35mvar\u001b[m\u001b[m@\n"
     ]
    }
   ],
   "source": [
    "ls /"
   ]
  },
  {
   "cell_type": "code",
   "execution_count": 19,
   "metadata": {},
   "outputs": [
    {
     "name": "stdout",
     "output_type": "stream",
     "text": [
      "[Errno 2] No such file or directory: 'Volumes'\n",
      "/opt\n"
     ]
    }
   ],
   "source": [
    "cd Volumes"
   ]
  },
  {
   "cell_type": "code",
   "execution_count": 20,
   "metadata": {},
   "outputs": [
    {
     "name": "stdout",
     "output_type": "stream",
     "text": [
      "[Errno 2] No such file or directory: 'etc@'\n",
      "/opt\n"
     ]
    }
   ],
   "source": [
    "cd etc@"
   ]
  },
  {
   "cell_type": "code",
   "execution_count": 21,
   "metadata": {},
   "outputs": [
    {
     "name": "stdout",
     "output_type": "stream",
     "text": [
      "/\n"
     ]
    }
   ],
   "source": [
    "cd /"
   ]
  },
  {
   "cell_type": "code",
   "execution_count": 22,
   "metadata": {},
   "outputs": [
    {
     "name": "stdout",
     "output_type": "stream",
     "text": [
      "/Users/jeesoolee\n"
     ]
    }
   ],
   "source": [
    "cd ~/"
   ]
  },
  {
   "cell_type": "code",
   "execution_count": 23,
   "metadata": {},
   "outputs": [
    {
     "ename": "SyntaxError",
     "evalue": "invalid syntax (<ipython-input-23-c3270e743ed6>, line 2)",
     "output_type": "error",
     "traceback": [
      "\u001b[0;36m  File \u001b[0;32m\"<ipython-input-23-c3270e743ed6>\"\u001b[0;36m, line \u001b[0;32m2\u001b[0m\n\u001b[0;31m    alias rm=\"rm -i\"\u001b[0m\n\u001b[0m          ^\u001b[0m\n\u001b[0;31mSyntaxError\u001b[0m\u001b[0;31m:\u001b[0m invalid syntax\n"
     ]
    }
   ],
   "source": []
  },
  {
   "cell_type": "code",
   "execution_count": null,
   "metadata": {},
   "outputs": [],
   "source": []
  }
 ],
 "metadata": {
  "kernelspec": {
   "display_name": "Python 3",
   "language": "python",
   "name": "python3"
  },
  "language_info": {
   "codemirror_mode": {
    "name": "ipython",
    "version": 3
   },
   "file_extension": ".py",
   "mimetype": "text/x-python",
   "name": "python",
   "nbconvert_exporter": "python",
   "pygments_lexer": "ipython3",
   "version": "3.8.3"
  }
 },
 "nbformat": 4,
 "nbformat_minor": 4
}
