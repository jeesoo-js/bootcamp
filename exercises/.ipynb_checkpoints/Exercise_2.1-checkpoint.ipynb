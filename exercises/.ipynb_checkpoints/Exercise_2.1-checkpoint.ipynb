{
 "cells": [
  {
   "cell_type": "markdown",
   "metadata": {},
   "source": [
    "# Exercise 2.1: Using string methods"
   ]
  },
  {
   "cell_type": "markdown",
   "metadata": {},
   "source": [
    "Exercise (a)"
   ]
  },
  {
   "cell_type": "code",
   "execution_count": 1,
   "metadata": {},
   "outputs": [],
   "source": [
    "def complement_base(base):\n",
    "    '''Returns the Watson-Crick complement of a base'''\n",
    "    if base == 'A':\n",
    "        return 'T'\n",
    "    elif base =='T':\n",
    "        return 'A'\n",
    "    elif base == 'G':\n",
    "        return 'C'\n",
    "    else:\n",
    "        return 'G'\n",
    "\n",
    "def reverse_complement(seq):\n",
    "    \"\"\"Returns the compelementary sequence\"\"\"\n",
    "    #Initialize reverse complement\n",
    "    rev_seq = ''\n",
    "    \n",
    "    for base in seq: \n",
    "        rev_seq += complement_base(base)\n",
    "        \n",
    "    return rev_seq[::-1]\n"
   ]
  },
  {
   "cell_type": "code",
   "execution_count": 4,
   "metadata": {},
   "outputs": [
    {
     "data": {
      "text/plain": [
       "'TGCAACTGC'"
      ]
     },
     "execution_count": 4,
     "metadata": {},
     "output_type": "execute_result"
    }
   ],
   "source": [
    "seq = 'GCAGTTGCA'\n",
    "\n",
    "reverse_complement(seq)"
   ]
  },
  {
   "cell_type": "markdown",
   "metadata": {},
   "source": [
    "Exercise (b)"
   ]
  },
  {
   "cell_type": "code",
   "execution_count": 20,
   "metadata": {},
   "outputs": [],
   "source": [
    "def reverse_complement(seq):\n",
    "    '''Returns the complementary sequence'''\n",
    "    #Initiatlize rev seq\n",
    "    rev_seq = seq.lower()\n",
    "    \n",
    "    #Substitute bases\n",
    "    rev_seq = rev_seq.replace('t','A').replace('a','T').replace('g','C').replace('c','G')\n",
    "    \n",
    "    return rev_seq [::-1]"
   ]
  },
  {
   "cell_type": "code",
   "execution_count": 22,
   "metadata": {},
   "outputs": [
    {
     "data": {
      "text/plain": [
       "'TGCAACTGC'"
      ]
     },
     "execution_count": 22,
     "metadata": {},
     "output_type": "execute_result"
    }
   ],
   "source": [
    "reverse_complement(seq)"
   ]
  },
  {
   "cell_type": "code",
   "execution_count": null,
   "metadata": {},
   "outputs": [],
   "source": []
  }
 ],
 "metadata": {
  "kernelspec": {
   "display_name": "Python 3",
   "language": "python",
   "name": "python3"
  },
  "language_info": {
   "codemirror_mode": {
    "name": "ipython",
    "version": 3
   },
   "file_extension": ".py",
   "mimetype": "text/x-python",
   "name": "python",
   "nbconvert_exporter": "python",
   "pygments_lexer": "ipython3",
   "version": "3.8.3"
  }
 },
 "nbformat": 4,
 "nbformat_minor": 4
}
