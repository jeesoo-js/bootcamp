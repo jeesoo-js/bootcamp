{
 "cells": [
  {
   "cell_type": "markdown",
   "metadata": {},
   "source": [
    "# Lesson 6 - Iterations"
   ]
  },
  {
   "cell_type": "code",
   "execution_count": 7,
   "metadata": {},
   "outputs": [
    {
     "data": {
      "text/plain": [
       "0.4444444444444444"
      ]
     },
     "execution_count": 7,
     "metadata": {},
     "output_type": "execute_result"
    }
   ],
   "source": [
    "seq = 'GACTACATGACTGACTTAGCCGTGACATGGTAAATG'\n",
    "\n",
    "# Initialize GC counter\n",
    "n_gc = 0\n",
    "\n",
    "# Initialize sequence length\n",
    "len_seq = 0\n",
    "\n",
    "#Iterate through sequence and count G's and C's\n",
    "for base in seq:\n",
    "    len_seq +=1\n",
    "    if base in 'GCgc':\n",
    "        n_gc += 1\n",
    "        \n",
    "# Get GC content by dividing\n",
    "n_gc / len_seq\n"
   ]
  },
  {
   "cell_type": "markdown",
   "metadata": {},
   "source": [
    "seq is an iterable. for loop = for 'variable (or item)' in 'iterable'"
   ]
  },
  {
   "cell_type": "code",
   "execution_count": 8,
   "metadata": {},
   "outputs": [
    {
     "data": {
      "text/plain": [
       "36"
      ]
     },
     "execution_count": 8,
     "metadata": {},
     "output_type": "execute_result"
    }
   ],
   "source": [
    "len(seq)"
   ]
  },
  {
   "cell_type": "code",
   "execution_count": 16,
   "metadata": {},
   "outputs": [
    {
     "data": {
      "text/plain": [
       "[1, 2, 3, 4, 5]"
      ]
     },
     "execution_count": 16,
     "metadata": {},
     "output_type": "execute_result"
    }
   ],
   "source": [
    "my_integers = [1, 2, 3, 4, 5]\n",
    "\n",
    "for n in my_integers: \n",
    "    n *= 2\n",
    "    \n",
    "my_integers"
   ]
  },
  {
   "cell_type": "markdown",
   "metadata": {},
   "source": [
    "Doesn't work because you are aking for change to be made to the original list"
   ]
  },
  {
   "cell_type": "code",
   "execution_count": 17,
   "metadata": {},
   "outputs": [
    {
     "data": {
      "text/plain": [
       "[2, 4, 6, 8, 10]"
      ]
     },
     "execution_count": 17,
     "metadata": {},
     "output_type": "execute_result"
    }
   ],
   "source": [
    "for i in range(5):\n",
    "    my_integers[i] *= 2\n",
    "    \n",
    "my_integers"
   ]
  },
  {
   "cell_type": "markdown",
   "metadata": {},
   "source": [
    "But you can get around it by indexing, the second line my_integers[i] is where you are updating the values in the list"
   ]
  },
  {
   "cell_type": "code",
   "execution_count": 18,
   "metadata": {},
   "outputs": [
    {
     "name": "stdout",
     "output_type": "stream",
     "text": [
      "0\n",
      "8\n",
      "12\n",
      "18\n",
      "21\n",
      "23\n",
      "28\n",
      "29\n",
      "35\n"
     ]
    }
   ],
   "source": [
    "# Find index of all G's in a sequence\n",
    "len_seq = 0\n",
    "\n",
    "for base in seq: \n",
    "    if base == 'G':\n",
    "        print (len_seq)\n",
    "    len_seq +=1"
   ]
  },
  {
   "cell_type": "code",
   "execution_count": 21,
   "metadata": {},
   "outputs": [
    {
     "name": "stdout",
     "output_type": "stream",
     "text": [
      "0 G\n",
      "8 G\n",
      "12 G\n",
      "18 G\n",
      "21 G\n",
      "23 G\n",
      "28 G\n",
      "29 G\n",
      "35 G\n"
     ]
    }
   ],
   "source": [
    "for i, base in enumerate(seq):\n",
    "    if base =='G':\n",
    "        print(i, base)"
   ]
  },
  {
   "cell_type": "markdown",
   "metadata": {},
   "source": [
    "enumerate gives you the index and the value for that item / variable"
   ]
  },
  {
   "cell_type": "code",
   "execution_count": 25,
   "metadata": {},
   "outputs": [
    {
     "name": "stdout",
     "output_type": "stream",
     "text": [
      "19 D Dunn\n",
      "8 MF Ertz\n",
      "16 MF Lavelle\n",
      "15 F Rapinoe\n"
     ]
    }
   ],
   "source": [
    "names = ('Dunn', 'Ertz', 'Lavelle', 'Rapinoe')\n",
    "positions = ('D', 'MF', 'MF', 'F')\n",
    "numbers = (19, 8, 16, 15)\n",
    "\n",
    "for num, pos, name in zip(numbers, positions, names):\n",
    "    print (num, pos, name)"
   ]
  },
  {
   "cell_type": "code",
   "execution_count": 26,
   "metadata": {},
   "outputs": [
    {
     "name": "stdout",
     "output_type": "stream",
     "text": [
      "10\n",
      "9\n",
      "8\n",
      "7\n",
      "6\n",
      "5\n",
      "4\n",
      "3\n",
      "2\n",
      "1\n",
      "ignition\n"
     ]
    }
   ],
   "source": [
    "count_up = ('ignition', 1, 2, 3, 4, 5, 6, 7, 8, 9, 10)\n",
    "\n",
    "for count in reversed(count_up):\n",
    "    print(count)"
   ]
  },
  {
   "cell_type": "code",
   "execution_count": 27,
   "metadata": {},
   "outputs": [],
   "source": [
    "seq = 'AUCGAUGCAGUAGCAUGCAAGUC'"
   ]
  },
  {
   "cell_type": "code",
   "execution_count": 34,
   "metadata": {
    "tags": []
   },
   "outputs": [
    {
     "name": "stdout",
     "output_type": "stream",
     "text": [
      "The start codon starts at index 4\n"
     ]
    }
   ],
   "source": [
    "start_codon = 'AUG'\n",
    "\n",
    "# Initialized the sequence index\n",
    "i = 0 \n",
    "\n",
    "# Scan the sequence until I hit the start codon\n",
    "while seq[i:i+3] != start_codon and i < len(seq):\n",
    "    i+=1\n",
    "\n",
    "if i == len(seq):\n",
    "    print ('Start codon was not found.')\n",
    "else: \n",
    "    print ('The start codon starts at index', i)"
   ]
  },
  {
   "cell_type": "markdown",
   "metadata": {},
   "source": [
    "while loops, evaluates until boolean returns false; if you don't know how many loops it's going to have to run, run while loops"
   ]
  },
  {
   "cell_type": "code",
   "execution_count": 30,
   "metadata": {},
   "outputs": [
    {
     "data": {
      "text/plain": [
       "''"
      ]
     },
     "execution_count": 30,
     "metadata": {},
     "output_type": "execute_result"
    }
   ],
   "source": [
    "seq [100:103]"
   ]
  },
  {
   "cell_type": "code",
   "execution_count": null,
   "metadata": {},
   "outputs": [],
   "source": []
  }
 ],
 "metadata": {
  "kernelspec": {
   "display_name": "Python 3",
   "language": "python",
   "name": "python3"
  },
  "language_info": {
   "codemirror_mode": {
    "name": "ipython",
    "version": 3
   },
   "file_extension": ".py",
   "mimetype": "text/x-python",
   "name": "python",
   "nbconvert_exporter": "python",
   "pygments_lexer": "ipython3",
   "version": "3.8.3"
  }
 },
 "nbformat": 4,
 "nbformat_minor": 4
}
