{
 "cells": [
  {
   "cell_type": "code",
   "execution_count": 1,
   "metadata": {},
   "outputs": [],
   "source": [
    "import os\n",
    "import glob"
   ]
  },
  {
   "cell_type": "code",
   "execution_count": 18,
   "metadata": {},
   "outputs": [
    {
     "name": "stdout",
     "output_type": "stream",
     "text": [
      "HEADER    ANTI-ONCOGENE                           13-JUN-94   1OLG\n",
      "TITLE     HIGH-RESOLUTION SOLUTION STRUCTURE OF THE OLIGOMERIZATION\n",
      "TITLE    2 DOMAIN OF P53 BY MULTI-DIMENSIONAL NMR\n",
      "COMPND    MOL_ID: 1;\n",
      "COMPND   2 MOLECULE: TUMOR SUPPRESSOR P53 (OLIGOMERIZATION DOMAIN);\n",
      "COMPND   3 CHAIN: A, B, C, D;\n",
      "COMPND   4 ENGINEERED: YES\n",
      "SOURCE    MOL_ID: 1;\n",
      "SOURCE   2 ORGANISM_SCIENTIFIC: HOMO SAPIENS;\n",
      "SOURCE   3 ORGANISM_COMMON: HUMAN;\n",
      "SOURCE   4 ORGANISM_TAXID: 9606\n"
     ]
    }
   ],
   "source": [
    "with open('data/1OLG.pdb', 'r') as f:\n",
    "    for i, line in enumerate(f):\n",
    "        print(line.rstrip())\n",
    "        if i>=10:\n",
    "            break"
   ]
  },
  {
   "cell_type": "code",
   "execution_count": 19,
   "metadata": {},
   "outputs": [
    {
     "name": "stdout",
     "output_type": "stream",
     "text": [
      "HEADER    ANTI-ONCOGENE                           13-JUN-94   1OLG\n",
      "TITLE     HIGH-RESOLUTION SOLUTION STRUCTURE OF THE OLIGOMERIZATION\n",
      "TITLE    2 DOMAIN OF P53 BY MULTI-DIMENSIONAL NMR\n",
      "COMPND    MOL_ID: 1;\n",
      "COMPND   2 MOLECULE: TUMOR SUPPRESSOR P53 (OLIGOMERIZATION DOMAIN);\n",
      "COMPND   3 CHAIN: A, B, C, D;\n",
      "COMPND   4 ENGINEERED: YES\n",
      "SOURCE    MOL_ID: 1;\n",
      "SOURCE   2 ORGANISM_SCIENTIFIC: HOMO SAPIENS;\n",
      "SOURCE   3 ORGANISM_COMMON: HUMAN;\n"
     ]
    }
   ],
   "source": [
    "with open('data/1OLG.pdb', 'r') as f: \n",
    "    i = 0\n",
    "    while i < 10:\n",
    "        print(f.readline().rstrip())\n",
    "        i += 1"
   ]
  },
  {
   "cell_type": "code",
   "execution_count": 6,
   "metadata": {},
   "outputs": [
    {
     "data": {
      "text/plain": [
       "'HEADER    ANTI-ONCOGENE                           13-JUN-94   1OLG              \\nTITLE     HIGH-RESOLUTION SOLUTION STRUCTURE OF THE OLIGOMERIZATION             \\nTITLE    2 DOMAIN OF P53 BY MULTI-DIMENSIONAL NMR                               \\nCOMPND    MOL_ID: 1;                                                            \\nCOMPND   2 MOLECULE: TUMOR SUPPRESSOR P53 (OLIGOMERIZATION DOMAIN);             \\nCOMPND   3 CHAIN: A, B, C, D;                                                   \\nCOMPND   4 ENGINEERED: YES                                                      \\nSOURCE    MOL_ID: 1;                                                            \\nSOURCE   2 ORGANISM_SCIENTIFIC: HOMO SAPIENS;                                   \\nSOURCE   3 ORGANISM_COMMON: HUMAN;                                              \\nSOURCE   4 ORGANISM_TAXID: 9606                                                 \\nKEYWDS    ANTI-ONCOGENE                                                         \\nEXPDTA    SOLUTION NMR      '"
      ]
     },
     "execution_count": 6,
     "metadata": {},
     "output_type": "execute_result"
    }
   ],
   "source": [
    "f_str[:1000]"
   ]
  },
  {
   "cell_type": "markdown",
   "metadata": {},
   "source": [
    "There are many ways to open a file to read it - you can adjust the formatting as required. You can also use for loops as files can be iterable. "
   ]
  },
  {
   "cell_type": "code",
   "execution_count": 15,
   "metadata": {},
   "outputs": [
    {
     "data": {
      "text/plain": [
       "'HEADER    ANTI-ONCOGENE                           13-JUN-94   1OLG'"
      ]
     },
     "execution_count": 15,
     "metadata": {},
     "output_type": "execute_result"
    }
   ],
   "source": [
    "f_list[0].rstrip()"
   ]
  },
  {
   "cell_type": "code",
   "execution_count": 20,
   "metadata": {},
   "outputs": [
    {
     "data": {
      "text/plain": [
       "True"
      ]
     },
     "execution_count": 20,
     "metadata": {},
     "output_type": "execute_result"
    }
   ],
   "source": [
    "os.path.isfile('data/1OLG.pdb')"
   ]
  },
  {
   "cell_type": "code",
   "execution_count": 27,
   "metadata": {},
   "outputs": [
    {
     "ename": "RuntimeError",
     "evalue": "File mastery.txt already exists.",
     "output_type": "error",
     "traceback": [
      "\u001b[0;31m---------------------------------------------------------------------------\u001b[0m",
      "\u001b[0;31mRuntimeError\u001b[0m                              Traceback (most recent call last)",
      "\u001b[0;32m<ipython-input-27-e9e68f093a9a>\u001b[0m in \u001b[0;36m<module>\u001b[0;34m\u001b[0m\n\u001b[1;32m      1\u001b[0m \u001b[0;32mif\u001b[0m \u001b[0mos\u001b[0m\u001b[0;34m.\u001b[0m\u001b[0mpath\u001b[0m\u001b[0;34m.\u001b[0m\u001b[0misfile\u001b[0m\u001b[0;34m(\u001b[0m\u001b[0;34m'mastery.txt'\u001b[0m\u001b[0;34m)\u001b[0m\u001b[0;34m:\u001b[0m\u001b[0;34m\u001b[0m\u001b[0;34m\u001b[0m\u001b[0m\n\u001b[0;32m----> 2\u001b[0;31m     \u001b[0;32mraise\u001b[0m \u001b[0mRuntimeError\u001b[0m\u001b[0;34m(\u001b[0m\u001b[0;34m'File mastery.txt already exists.'\u001b[0m\u001b[0;34m)\u001b[0m\u001b[0;34m\u001b[0m\u001b[0;34m\u001b[0m\u001b[0m\n\u001b[0m\u001b[1;32m      3\u001b[0m \u001b[0;32melse\u001b[0m\u001b[0;34m:\u001b[0m\u001b[0;34m\u001b[0m\u001b[0;34m\u001b[0m\u001b[0m\n\u001b[1;32m      4\u001b[0m     \u001b[0;32mwith\u001b[0m \u001b[0mopen\u001b[0m\u001b[0;34m(\u001b[0m\u001b[0;34m'mastery.txt'\u001b[0m\u001b[0;34m,\u001b[0m \u001b[0;34m'w'\u001b[0m\u001b[0;34m)\u001b[0m \u001b[0;32mas\u001b[0m \u001b[0mf\u001b[0m\u001b[0;34m:\u001b[0m\u001b[0;34m\u001b[0m\u001b[0;34m\u001b[0m\u001b[0m\n\u001b[1;32m      5\u001b[0m         \u001b[0mf\u001b[0m\u001b[0;34m.\u001b[0m\u001b[0mwrite\u001b[0m\u001b[0;34m(\u001b[0m\u001b[0;34m'This is my file.\\n'\u001b[0m\u001b[0;34m)\u001b[0m\u001b[0;34m\u001b[0m\u001b[0;34m\u001b[0m\u001b[0m\n",
      "\u001b[0;31mRuntimeError\u001b[0m: File mastery.txt already exists."
     ]
    }
   ],
   "source": [
    "if os.path.isfile('mastery.txt'):\n",
    "    raise RuntimeError('File mastery.txt already exists.')\n",
    "else:\n",
    "    with open('mastery.txt', 'w') as f:\n",
    "        f.write('This is my file.\\n')"
   ]
  },
  {
   "cell_type": "markdown",
   "metadata": {},
   "source": [
    "There are also ways to write new files or overwrite old files. runtime error is good to prevent rewriting existing files\n"
   ]
  },
  {
   "cell_type": "code",
   "execution_count": 28,
   "metadata": {},
   "outputs": [
    {
     "name": "stdout",
     "output_type": "stream",
     "text": [
      "This is my file"
     ]
    }
   ],
   "source": [
    "!head mastery.txt"
   ]
  },
  {
   "cell_type": "code",
   "execution_count": 32,
   "metadata": {},
   "outputs": [],
   "source": [
    "with open('gimme_phi.txt', 'w') as f:\n",
    "    f.write('The golden ratio of pi = ')\n",
    "    f.write('{phi:.8f}'.format(phi=1.61803398875))"
   ]
  },
  {
   "cell_type": "code",
   "execution_count": 33,
   "metadata": {},
   "outputs": [
    {
     "name": "stdout",
     "output_type": "stream",
     "text": [
      "The golden ratio of pi = 1.61803399"
     ]
    }
   ],
   "source": [
    "!head gimme_phi.txt"
   ]
  },
  {
   "cell_type": "code",
   "execution_count": 35,
   "metadata": {},
   "outputs": [],
   "source": [
    "with open('data/1OLG.pdb', 'r') as f, open('atoms_chain_A.txt', 'w') as f_out:\n",
    "    for line in f:\n",
    "        if len(line) > 21 and line[:4] == 'ATOM' and line [21] == 'A':\n",
    "            f_out.write(line)"
   ]
  },
  {
   "cell_type": "code",
   "execution_count": 36,
   "metadata": {},
   "outputs": [],
   "source": [
    "file_list = glob.glob('data/*.pdb')"
   ]
  },
  {
   "cell_type": "code",
   "execution_count": 37,
   "metadata": {},
   "outputs": [
    {
     "data": {
      "text/plain": [
       "['data/1OLG.pdb', 'data/1J6Z.pdb', 'data/1FAG.pdb', 'data/2ERK.pdb']"
      ]
     },
     "execution_count": 37,
     "metadata": {},
     "output_type": "execute_result"
    }
   ],
   "source": [
    "file_list"
   ]
  },
  {
   "cell_type": "markdown",
   "metadata": {},
   "source": [
    "a way to find all the patterns in file directory"
   ]
  },
  {
   "cell_type": "code",
   "execution_count": 47,
   "metadata": {},
   "outputs": [],
   "source": [
    "# find all relevant data files\n",
    "\n",
    "file_list = glob.glob('data/*.pdb')\n",
    "\n",
    "# initialize the dictionary\n",
    "\n",
    "seqs = {}\n",
    "\n",
    "# define file id\n",
    "\n",
    "for file_name in file_list:\n",
    "    pdb_id = file_name[file_name.find('/')+1:file_name.rfind('.')]\n",
    "    \n",
    "    # Initialize sequence string\n",
    "    seq = ''\n",
    "    with open(file_name, 'r') as f:\n",
    "        for line in f: \n",
    "            if len(line) > 11 and line [:6] == 'SEQRES' and line[11] == 'A':\n",
    "                seq += line[19:].rstrip() + ' '\n",
    "                                                                 \n",
    "    seq = '-'.join(seq.split())\n",
    "\n",
    "# assign key and value to dictionary\n",
    "    seqs[pdb_id] = seq"
   ]
  },
  {
   "cell_type": "code",
   "execution_count": 48,
   "metadata": {},
   "outputs": [
    {
     "data": {
      "text/plain": [
       "{'1OLG': 'LYS-LYS-LYS-PRO-LEU-ASP-GLY-GLU-TYR-PHE-THR-LEU-GLN-ILE-ARG-GLY-ARG-GLU-ARG-PHE-GLU-MET-PHE-ARG-GLU-LEU-ASN-GLU-ALA-LEU-GLU-LEU-LYS-ASP-ALA-GLN-ALA-GLY-LYS-GLU-PRO-GLY',\n",
       " '1J6Z': 'ASP-GLU-ASP-GLU-THR-THR-ALA-LEU-VAL-CYS-ASP-ASN-GLY-SER-GLY-LEU-VAL-LYS-ALA-GLY-PHE-ALA-GLY-ASP-ASP-ALA-PRO-ARG-ALA-VAL-PHE-PRO-SER-ILE-VAL-GLY-ARG-PRO-ARG-HIS-GLN-GLY-VAL-MET-VAL-GLY-MET-GLY-GLN-LYS-ASP-SER-TYR-VAL-GLY-ASP-GLU-ALA-GLN-SER-LYS-ARG-GLY-ILE-LEU-THR-LEU-LYS-TYR-PRO-ILE-GLU-HIC-GLY-ILE-ILE-THR-ASN-TRP-ASP-ASP-MET-GLU-LYS-ILE-TRP-HIS-HIS-THR-PHE-TYR-ASN-GLU-LEU-ARG-VAL-ALA-PRO-GLU-GLU-HIS-PRO-THR-LEU-LEU-THR-GLU-ALA-PRO-LEU-ASN-PRO-LYS-ALA-ASN-ARG-GLU-LYS-MET-THR-GLN-ILE-MET-PHE-GLU-THR-PHE-ASN-VAL-PRO-ALA-MET-TYR-VAL-ALA-ILE-GLN-ALA-VAL-LEU-SER-LEU-TYR-ALA-SER-GLY-ARG-THR-THR-GLY-ILE-VAL-LEU-ASP-SER-GLY-ASP-GLY-VAL-THR-HIS-ASN-VAL-PRO-ILE-TYR-GLU-GLY-TYR-ALA-LEU-PRO-HIS-ALA-ILE-MET-ARG-LEU-ASP-LEU-ALA-GLY-ARG-ASP-LEU-THR-ASP-TYR-LEU-MET-LYS-ILE-LEU-THR-GLU-ARG-GLY-TYR-SER-PHE-VAL-THR-THR-ALA-GLU-ARG-GLU-ILE-VAL-ARG-ASP-ILE-LYS-GLU-LYS-LEU-CYS-TYR-VAL-ALA-LEU-ASP-PHE-GLU-ASN-GLU-MET-ALA-THR-ALA-ALA-SER-SER-SER-SER-LEU-GLU-LYS-SER-TYR-GLU-LEU-PRO-ASP-GLY-GLN-VAL-ILE-THR-ILE-GLY-ASN-GLU-ARG-PHE-ARG-CYS-PRO-GLU-THR-LEU-PHE-GLN-PRO-SER-PHE-ILE-GLY-MET-GLU-SER-ALA-GLY-ILE-HIS-GLU-THR-THR-TYR-ASN-SER-ILE-MET-LYS-CYS-ASP-ILE-ASP-ILE-ARG-LYS-ASP-LEU-TYR-ALA-ASN-ASN-VAL-MET-SER-GLY-GLY-THR-THR-MET-TYR-PRO-GLY-ILE-ALA-ASP-ARG-MET-GLN-LYS-GLU-ILE-THR-ALA-LEU-ALA-PRO-SER-THR-MET-LYS-ILE-LYS-ILE-ILE-ALA-PRO-PRO-GLU-ARG-LYS-TYR-SER-VAL-TRP-ILE-GLY-GLY-SER-ILE-LEU-ALA-SER-LEU-SER-THR-PHE-GLN-GLN-MET-TRP-ILE-THR-LYS-GLN-GLU-TYR-ASP-GLU-ALA-GLY-PRO-SER-ILE-VAL-HIS-ARG-LYS-CYS-PHE',\n",
       " '1FAG': 'THR-ILE-LYS-GLU-MET-PRO-GLN-PRO-LYS-THR-PHE-GLY-GLU-LEU-LYS-ASN-LEU-PRO-LEU-LEU-ASN-THR-ASP-LYS-PRO-VAL-GLN-ALA-LEU-MET-LYS-ILE-ALA-ASP-GLU-LEU-GLY-GLU-ILE-PHE-LYS-PHE-GLU-ALA-PRO-GLY-ARG-VAL-THR-ARG-TYR-LEU-SER-SER-GLN-ARG-LEU-ILE-LYS-GLU-ALA-CYS-ASP-GLU-SER-ARG-PHE-ASP-LYS-ASN-LEU-SER-GLN-ALA-LEU-LYS-PHE-VAL-ARG-ASP-PHE-ALA-GLY-ASP-GLY-LEU-PHE-THR-SER-TRP-THR-HIS-GLU-LYS-ASN-TRP-LYS-LYS-ALA-HIS-ASN-ILE-LEU-LEU-PRO-SER-PHE-SER-GLN-GLN-ALA-MET-LYS-GLY-TYR-HIS-ALA-MET-MET-VAL-ASP-ILE-ALA-VAL-GLN-LEU-VAL-GLN-LYS-TRP-GLU-ARG-LEU-ASN-ALA-ASP-GLU-HIS-ILE-GLU-VAL-PRO-GLU-ASP-MET-THR-ARG-LEU-THR-LEU-ASP-THR-ILE-GLY-LEU-CYS-GLY-PHE-ASN-TYR-ARG-PHE-ASN-SER-PHE-TYR-ARG-ASP-GLN-PRO-HIS-PRO-PHE-ILE-THR-SER-MET-VAL-ARG-ALA-LEU-ASP-GLU-ALA-MET-ASN-LYS-LEU-GLN-ARG-ALA-ASN-PRO-ASP-ASP-PRO-ALA-TYR-ASP-GLU-ASN-LYS-ARG-GLN-PHE-GLN-GLU-ASP-ILE-LYS-VAL-MET-ASN-ASP-LEU-VAL-ASP-LYS-ILE-ILE-ALA-ASP-ARG-LYS-ALA-SER-GLY-GLU-GLN-SER-ASP-ASP-LEU-LEU-THR-HIS-MET-LEU-ASN-GLY-LYS-ASP-PRO-GLU-THR-GLY-GLU-PRO-LEU-ASP-ASP-GLU-ASN-ILE-ARG-TYR-GLN-ILE-ILE-THR-PHE-LEU-ILE-ALA-GLY-HIS-GLU-THR-THR-SER-GLY-LEU-LEU-SER-PHE-ALA-LEU-TYR-PHE-LEU-VAL-LYS-ASN-PRO-HIS-VAL-LEU-GLN-LYS-ALA-ALA-GLU-GLU-ALA-ALA-ARG-VAL-LEU-VAL-ASP-PRO-VAL-PRO-SER-TYR-LYS-GLN-VAL-LYS-GLN-LEU-LYS-TYR-VAL-GLY-MET-VAL-LEU-ASN-GLU-ALA-LEU-ARG-LEU-TRP-PRO-THR-ALA-PRO-ALA-PHE-SER-LEU-TYR-ALA-LYS-GLU-ASP-THR-VAL-LEU-GLY-GLY-GLU-TYR-PRO-LEU-GLU-LYS-GLY-ASP-GLU-LEU-MET-VAL-LEU-ILE-PRO-GLN-LEU-HIS-ARG-ASP-LYS-THR-ILE-TRP-GLY-ASP-ASP-VAL-GLU-GLU-PHE-ARG-PRO-GLU-ARG-PHE-GLU-ASN-PRO-SER-ALA-ILE-PRO-GLN-HIS-ALA-PHE-LYS-PRO-PHE-GLY-ASN-GLY-GLN-ARG-ALA-CYS-ILE-GLY-GLN-GLN-PHE-ALA-LEU-HIS-GLU-ALA-THR-LEU-VAL-LEU-GLY-MET-MET-LEU-LYS-HIS-PHE-ASP-PHE-GLU-ASP-HIS-THR-ASN-TYR-GLU-LEU-ASP-ILE-LYS-GLU-THR-LEU-THR-LEU-LYS-PRO-GLU-GLY-PHE-VAL-VAL-LYS-ALA-LYS-SER-LYS-LYS-ILE-PRO-LEU-GLY-GLY-ILE-PRO-SER-PRO-SER-THR-GLU-GLN-SER-ALA-LYS-LYS-VAL-ARG',\n",
       " '2ERK': 'ALA-HIS-HIS-HIS-HIS-HIS-HIS-MET-ALA-ALA-ALA-ALA-ALA-ALA-GLY-PRO-GLU-MET-VAL-ARG-GLY-GLN-VAL-PHE-ASP-VAL-GLY-PRO-ARG-TYR-THR-ASN-LEU-SER-TYR-ILE-GLY-GLU-GLY-ALA-TYR-GLY-MET-VAL-CYS-SER-ALA-TYR-ASP-ASN-LEU-ASN-LYS-VAL-ARG-VAL-ALA-ILE-LYS-LYS-ILE-SER-PRO-PHE-GLU-HIS-GLN-THR-TYR-CYS-GLN-ARG-THR-LEU-ARG-GLU-ILE-LYS-ILE-LEU-LEU-ARG-PHE-ARG-HIS-GLU-ASN-ILE-ILE-GLY-ILE-ASN-ASP-ILE-ILE-ARG-ALA-PRO-THR-ILE-GLU-GLN-MET-LYS-ASP-VAL-TYR-ILE-VAL-GLN-ASP-LEU-MET-GLU-THR-ASP-LEU-TYR-LYS-LEU-LEU-LYS-THR-GLN-HIS-LEU-SER-ASN-ASP-HIS-ILE-CYS-TYR-PHE-LEU-TYR-GLN-ILE-LEU-ARG-GLY-LEU-LYS-TYR-ILE-HIS-SER-ALA-ASN-VAL-LEU-HIS-ARG-ASP-LEU-LYS-PRO-SER-ASN-LEU-LEU-LEU-ASN-THR-THR-CYS-ASP-LEU-LYS-ILE-CYS-ASP-PHE-GLY-LEU-ALA-ARG-VAL-ALA-ASP-PRO-ASP-HIS-ASP-HIS-THR-GLY-PHE-LEU-TPO-GLU-PTR-VAL-ALA-THR-ARG-TRP-TYR-ARG-ALA-PRO-GLU-ILE-MET-LEU-ASN-SER-LYS-GLY-TYR-THR-LYS-SER-ILE-ASP-ILE-TRP-SER-VAL-GLY-CYS-ILE-LEU-ALA-GLU-MET-LEU-SER-ASN-ARG-PRO-ILE-PHE-PRO-GLY-LYS-HIS-TYR-LEU-ASP-GLN-LEU-ASN-HIS-ILE-LEU-GLY-ILE-LEU-GLY-SER-PRO-SER-GLN-GLU-ASP-LEU-ASN-CYS-ILE-ILE-ASN-LEU-LYS-ALA-ARG-ASN-TYR-LEU-LEU-SER-LEU-PRO-HIS-LYS-ASN-LYS-VAL-PRO-TRP-ASN-ARG-LEU-PHE-PRO-ASN-ALA-ASP-SER-LYS-ALA-LEU-ASP-LEU-LEU-ASP-LYS-MET-LEU-THR-PHE-ASN-PRO-HIS-LYS-ARG-ILE-GLU-VAL-GLU-GLN-ALA-LEU-ALA-HIS-PRO-TYR-LEU-GLU-GLN-TYR-TYR-ASP-PRO-SER-ASP-GLU-PRO-ILE-ALA-GLU-ALA-PRO-PHE-LYS-PHE-ASP-MET-GLU-LEU-ASP-ASP-LEU-PRO-LYS-GLU-LYS-LEU-LYS-GLU-LEU-ILE-PHE-GLU-GLU-THR-ALA-ARG-PHE-GLN-PRO-GLY-TYR-ARG-SER'}"
      ]
     },
     "execution_count": 48,
     "metadata": {},
     "output_type": "execute_result"
    }
   ],
   "source": [
    "seqs"
   ]
  },
  {
   "cell_type": "code",
   "execution_count": null,
   "metadata": {},
   "outputs": [],
   "source": []
  }
 ],
 "metadata": {
  "kernelspec": {
   "display_name": "Python 3",
   "language": "python",
   "name": "python3"
  },
  "language_info": {
   "codemirror_mode": {
    "name": "ipython",
    "version": 3
   },
   "file_extension": ".py",
   "mimetype": "text/x-python",
   "name": "python",
   "nbconvert_exporter": "python",
   "pygments_lexer": "ipython3",
   "version": "3.8.3"
  }
 },
 "nbformat": 4,
 "nbformat_minor": 4
}
